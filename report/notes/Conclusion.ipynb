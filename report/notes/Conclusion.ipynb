{
 "cells": [
  {
   "cell_type": "markdown",
   "id": "8031d374",
   "metadata": {},
   "source": [
    "# Conclusion"
   ]
  },
  {
   "cell_type": "markdown",
   "id": "58756774",
   "metadata": {},
   "source": [
    "Our goal was to inform and improve business decisions for the bike-sharing platform lyft. The analysis of the bike-sharing data has provided insights into the temporal and geographical demand patterns, as well as customer and time-based clusters. Based on the findings, it is recommended that Lyft focuses on increasing the availability of bikes at stations located in downtown San Francisco during the weekday morning and evening rush hours, as well as at the docks. Additionally, Lyft should provide promotions and incentives for short-trip customers during the weekdays, and for long-trip customers on weekends. Finally, as bike sharing is a popular option for the 'last mile connectivity' on the customers way to work, Lyft should consider corporate subscriptions in the B2B market.\n",
    "The scope of the project was limited to data from only one year of the bike-sharing system, which could be expanded to multiple years to provide more comprehensive findings and analysis of usage and system growth. Additionally, the dataset's features were limited, such as the lack of information on user demographics, which would have allowed for more advanced user clustering and segmentation. In terms of revenue calculation the results were limited by the fact that revenue calculation for 2019 data was based on the 2022 pricing model. \n"
   ]
  },
  {
   "cell_type": "code",
   "execution_count": null,
   "id": "a2406fca",
   "metadata": {},
   "outputs": [],
   "source": []
  }
 ],
 "metadata": {
  "kernelspec": {
   "display_name": "Python 3 (ipykernel)",
   "language": "python",
   "name": "python3"
  },
  "language_info": {
   "codemirror_mode": {
    "name": "ipython",
    "version": 3
   },
   "file_extension": ".py",
   "mimetype": "text/x-python",
   "name": "python",
   "nbconvert_exporter": "python",
   "pygments_lexer": "ipython3",
   "version": "3.9.12"
  }
 },
 "nbformat": 4,
 "nbformat_minor": 5
}
