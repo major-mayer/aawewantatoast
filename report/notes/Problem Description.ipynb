{
 "cells": [
  {
   "cell_type": "markdown",
   "id": "6bc28459",
   "metadata": {},
   "source": [
    "# Problem Description"
   ]
  },
  {
   "cell_type": "markdown",
   "id": "8d5e3967",
   "metadata": {},
   "source": [
    "The fundamental goal of this project is to inform and improve business decisions for the bike-sharing platform lyft. By conducting analysis on historical data we aim at identifying patterns and trends that unfold demand-driving factors and thereby enhance allocation. To gain a more comprehensive understanding of these behavioural patterns we generate costumer, time and spatial based clusters and provide hourly demand forecasting. \n",
    "\n",
    "\n",
    "\n",
    " \n",
    "\n",
    "\n",
    "\n"
   ]
  },
  {
   "cell_type": "code",
   "execution_count": null,
   "id": "ebe55384",
   "metadata": {},
   "outputs": [],
   "source": []
  }
 ],
 "metadata": {
  "kernelspec": {
   "display_name": "Python 3 (ipykernel)",
   "language": "python",
   "name": "python3"
  },
  "language_info": {
   "codemirror_mode": {
    "name": "ipython",
    "version": 3
   },
   "file_extension": ".py",
   "mimetype": "text/x-python",
   "name": "python",
   "nbconvert_exporter": "python",
   "pygments_lexer": "ipython3",
   "version": "3.9.12"
  }
 },
 "nbformat": 4,
 "nbformat_minor": 5
}
