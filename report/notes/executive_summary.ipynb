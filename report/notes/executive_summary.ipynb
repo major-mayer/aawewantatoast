{
 "cells": [
  {
   "attachments": {},
   "cell_type": "markdown",
   "id": "7b267f62",
   "metadata": {},
   "source": [
    "The main objective of this project was to analyze trip data from Lyft's bike rentals in San Francisco for the year 2019 in order to monitor and predict demand. To achieve this, we used three data sets that were cleaned and joined together; these included bike rental data for San Francisco, weather data for 2019 from weather.com, and geo-data provided by Lyft's system data for the bike stations. Additionally, we established key performance indicators (KPIs) to monitor the operational performance of the bike fleet. Through cluster analysis we were able to gain a deeper understanding of the customer groups and station relevance. We found the following customer groups: \"Nightriders\", which mainly ride in the early morning and late evening hours,  the \"Workers\" which take a bike to commute to work and lastly the \"Midday rides\" where rides take place around midday\n",
    "\n",
    " % 'where rides take place around midday' kann evtl. raus, der name sagts schon. \n",
    "\n",
    "Our findings also showed that the highest demand for bike rentals occurred during the weekday morning and evening rush hours, with the busiest bike stations located in downtown San Francisco. \n",
    "Lastly, we implemented a predictive analysis to forecast demand and optimize the performance of the fleet in the future. For the model, we chose the K-Nearest-Neighbor model, because it showed the best R^2 value of 0.956773. We also found out, that the lag feature from one week before as well as the \"is_workday\" feature are the most important features for the prediction. \t\n",
    "To optimize the performance of the fleet, we recommend that Lyft focus on increasing the availability of bikes at these busy stations during peak hours, as well as providing promotions and incentives for both short-trip and weekend-customers. Additionally, our analysis revealed the existence of two customer clusters: short-trip customers who primarily use bikes for commuting purposes, and weekend-customers who use bikes for leisure and recreation. To better serve these customers, Lyft should consider offering corporate subscriptions for short-trip customers and promotions for long-trip customers on weekends.\n",
    "The results of our analysis are based on a limited dataset, which includes only one year of bike rental data and lacks information on user demographics and user distinction. Nontheless, our findings and recommendations provide a solid foundation for Lyft to improve its bike-sharing service and better meet the needs of its customers.\n"
   ]
  }
 ],
 "metadata": {
  "kernelspec": {
   "display_name": "base",
   "language": "python",
   "name": "python3"
  },
  "language_info": {
   "name": "python",
   "version": "3.9.12 (main, Apr  4 2022, 05:22:27) [MSC v.1916 64 bit (AMD64)]"
  },
  "vscode": {
   "interpreter": {
    "hash": "b1795f8d38296b85110f0213c0105ec5d9fcb18b71a8c79bb176d814d139cbff"
   }
  }
 },
 "nbformat": 4,
 "nbformat_minor": 5
}
